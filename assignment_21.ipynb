{
 "cells": [
  {
   "cell_type": "code",
   "execution_count": 1,
   "metadata": {},
   "outputs": [],
   "source": [
    "#Q - 1. Add the current date to the text file today.txt as a string.\n",
    "#Answer:\n",
    "from datetime import date\n",
    "\n",
    "today_date = date.today()\n",
    "\n",
    "#to convert date to string\n",
    "date_str = today_date.strftime(\"%Y-%m-%d\")\n",
    "\n",
    "#Adding this date string to the current file\n",
    "with open(\"today.txt\",\"w\") as file:\n",
    "    file.write(date_str)"
   ]
  },
  {
   "cell_type": "code",
   "execution_count": 2,
   "metadata": {},
   "outputs": [
    {
     "name": "stdout",
     "output_type": "stream",
     "text": [
      "2023-06-28\n"
     ]
    }
   ],
   "source": [
    "#Q - 2. Read the text file today.txt into the string today_string\n",
    "#Answer:\n",
    "with open(\"today.txt\",\"r\") as file1:\n",
    "    today_string = file1.read()\n",
    "\n",
    "print(today_string)"
   ]
  },
  {
   "cell_type": "code",
   "execution_count": 3,
   "metadata": {},
   "outputs": [
    {
     "name": "stdout",
     "output_type": "stream",
     "text": [
      "2023-06-28\n"
     ]
    }
   ],
   "source": [
    "#Q - 3. Parse the date from today_string.\n",
    "#Answer:\n",
    "from datetime import datetime\n",
    "\n",
    "date_format = \"%Y-%m-%d\"\n",
    "\n",
    "# Parse the date from the string\n",
    "parsed_date = datetime.strptime(today_string.strip(), date_format).date()\n",
    "\n",
    "# Print the parsed date\n",
    "print(parsed_date)"
   ]
  },
  {
   "cell_type": "code",
   "execution_count": 4,
   "metadata": {},
   "outputs": [
    {
     "name": "stdout",
     "output_type": "stream",
     "text": [
      "assignment_13.ipynb\n",
      "assignment_11.ipynb\n",
      ".DS_Store\n",
      "assignment_15.ipynb\n",
      "assignment_17.ipynb\n",
      "assignment_6.ipynb\n",
      "assignment_10.ipynb\n",
      "today.txt\n",
      "zoo.py\n",
      "assignment_12.ipynb\n",
      "assignment_16.ipynb\n",
      "zoo.ipynb\n",
      "assignment_5.ipynb\n",
      "assignment_14.ipynb\n",
      "assignment_18.ipynb\n",
      "assignment_9.ipynb\n",
      "books.csv\n",
      "assignment_21.ipynb\n",
      "assignment-8.ipynb\n",
      "test.txt\n",
      "assignment_19.ipynb\n",
      "books.db\n",
      "assignment_20.ipynb\n"
     ]
    }
   ],
   "source": [
    "#Q- 4. List the files in your current directory\n",
    "#Answer:\n",
    "import os\n",
    "\n",
    "#list of files in current directory\n",
    "files = os.listdir()\n",
    "\n",
    "for file in files:\n",
    "    print(file)\n"
   ]
  },
  {
   "cell_type": "code",
   "execution_count": 5,
   "metadata": {},
   "outputs": [
    {
     "name": "stdout",
     "output_type": "stream",
     "text": [
      "Untitled Folder\n",
      "boxplot_statistics.py.ipynb\n",
      "test22.csv\n",
      "test45.json\n",
      "Numpy and basic of Graph 13 aug.ipynb\n",
      "Untitled10.ipynb\n",
      "FitBit data (1).csv\n",
      "Untitled7.ipynb\n",
      "assignment_2.ipynb\n",
      ".config\n",
      "Music\n",
      "5th June part 2.ipynb\n",
      "MongoDB Credentials.rtf\n",
      ".condarc\n",
      "sb.txt\n",
      "Untitled12.ipynb\n",
      "29 may answers set 2.ipynb\n",
      "test5.txt\n",
      "ImageScrapper\n",
      "hi.txt\n",
      "Untitled5.ipynb\n",
      "Project_Practice\n",
      "Untitled1.ipynb\n",
      "ReviewFlask\n",
      "Pandas class1.ipynb\n",
      "dataprep.py.ipynb\n",
      "Untitled16.ipynb\n",
      ".DS_Store\n",
      "test1.txt\n",
      "pandas class 3 with task.ipynb\n",
      "test.sudh\n",
      "DressSales.csv\n",
      "fsds-EDA.ipynb\n",
      "Types-Of-Trnasformation-main\n",
      ".CFUserTextEncoding\n",
      "exception handling revision.ipynb\n",
      "haberman.names\n",
      "T-test-an-Correlation-using-python-master\n",
      "abc.txt\n",
      "listTasks.log\n",
      "while loop and basic of function.ipynb\n",
      "test2.txt\n",
      "Logistic Regression.ipynb\n",
      ".xonshrc\n",
      "Untitled3.ipynb\n",
      "intro list tuples dict str.ipynb\n",
      "Untitled14.ipynb\n",
      "Untitled.ipynb\n",
      "Graph.ipynb\n",
      ".zshrc\n",
      "PCA - 7 Jan.ipynb\n",
      "AgentLogingReport.csv\n",
      "ROCAUC.ipynb\n",
      "assignment_1.ipynb\n",
      "student_performance\n",
      "Untitled13.ipynb\n",
      "Untitled6.ipynb\n",
      "Pictures\n",
      "Untitled11.ipynb\n",
      "Python Interview Q A.docx\n",
      "haberman.csv\n",
      "exception handling 12th jun.ipynb\n",
      "while loop assignments with answers.ipynb\n",
      "All_sql_query.sql\n",
      "yt.txt\n",
      "haberman1.csv\n",
      "4th june revision.ipynb\n",
      "graph\n",
      "student.csv\n",
      ".mysqlsh\n",
      "Time series Forecasting - 8th Jan.ipynb\n",
      "Postman\n",
      "central_limit_theorum_class4.py.ipynb\n",
      "python string basic 15 may.ipynb\n",
      "python string basics 15may.ipynb\n",
      "Untitled15.ipynb\n",
      "Attribute DataSet.xlsx\n",
      "T-test-an-Correlation-using-python-master.zip\n",
      "assignment 30th July pandas.ipynb\n",
      "5 Nov Decision Tree.ipynb\n",
      ".zsh_history\n",
      "Untitled2.ipynb\n",
      "Review scrapper project.ipynb\n",
      ".ipython\n",
      "Desktop\n",
      "Library\n",
      "ML Project - APS\n",
      "python assignments ineuron\n",
      ".matplotlib\n",
      "statistics-interview-questions.pdf\n",
      "1 Oct Stats.ipynb\n",
      "assignment on for loop.ipynb\n",
      ".lesshst\n",
      "exception handling part2.ipynb\n",
      "5th June function class.ipynb\n",
      "revision pandas class2.ipynb\n",
      "loops.ipynb\n",
      "29th may assignments answers.ipynb\n",
      "pandas class2 30th july.ipynb\n",
      "ReviewFlask.zip\n",
      "seaborn-data\n",
      "while loop and functions basics 2nd part.ipynb\n",
      "Readme.md\n",
      "31st july class notes with assignment\n",
      "sbr.txt\n",
      "DS More Info\n",
      "hihello.txt\n",
      "for loop.ipynb\n",
      "Revision OOPS Python 18 Nov.ipynb\n",
      ".cups\n",
      "assignment on list.ipynb\n",
      "EDA_FE_ON_ALGERIAN_FOREST_DATASET.py.ipynb\n",
      "PycharmProjects\n",
      "Public\n",
      "import pymongo.docx\n",
      "sbp.txt\n",
      "15th oct Ridge Regression self-practice.ipynb\n",
      "SVC-29Oct.ipynb\n",
      "select_tab.sql\n",
      "D:\n",
      ".tcshrc\n",
      "Postman Agent\n",
      "assignment_2\n",
      "decision_tree_fsdsmay.ipynb\n",
      ".anaconda\n",
      "24 July revision.ipynb\n",
      "~$thon Interview Q A.docx\n",
      "Untitled8.ipynb\n",
      "Movies\n",
      "conditional operator for loop.ipynb\n",
      ":Users:Moti:ImageScrapper\n",
      "Applications\n",
      "SVM Kernels Implementation.ipynb\n",
      "Python Programming Preparation.ipynb\n",
      "auto_viz.py.ipynb\n",
      "opt\n",
      "assignment_3\n",
      ".Trash\n",
      "dev\n",
      "assignment_4\n",
      "Numpy previous batch.ipynb\n",
      "test.txt\n",
      ".ipynb_checkpoints\n",
      ".jupyter\n",
      "mypage2.txt\n",
      "AgentPerformance.csv\n",
      "sales_data_final.csv\n",
      "5th June assignment.ipynb\n",
      "Documents\n",
      "pandas class3 assignments.ipynb\n",
      "test123.json\n",
      "for loop demo.ipynb\n",
      "report.html\n",
      ".vscode\n",
      "mypage1.txt\n",
      "Deep learning class notes and practicals\n",
      ".bash_profile\n",
      "statistics class1.docx\n",
      "Downloads\n",
      "SweetViz.py.ipynb\n",
      ".python_history\n",
      "hello.txt\n",
      ".continuum\n",
      ".gitconfig\n",
      "demo_logging.ipynb\n",
      "Test.ipynb\n",
      "Untitled9.ipynb\n",
      ".cufflinks\n",
      "iterator, generator,map,reduce,filter,basic file operation.ipynb\n",
      "Algerian_forest_fires_dataset_UPDATE.csv\n",
      ".bash_history\n",
      ".viminfo\n",
      ".zsh_sessions\n",
      "Exception handling class notes.ipynb\n",
      "15th oct Linear Regression Practicals.ipynb\n",
      "pandas-profiling-test.py.ipynb\n",
      ".conda\n",
      "list, tuples,dict,set.ipynb\n",
      "hr_preprocessed.csv\n",
      "list tuples dict set 2 revision.ipynb\n",
      "Dress Sales.xlsx\n"
     ]
    }
   ],
   "source": [
    "#Q - 5. Create a list of all of the files in your parent directory (minimum five files should be available).\n",
    "#Answer:\n",
    "import os\n",
    "\n",
    "#getting parent directory path\n",
    "parent_directory = os.path.abspath(os.pardir) #os.pardir is string constant that represents the parent directory\n",
    "\n",
    "#get list of files in parent directory\n",
    "files = os.listdir(parent_directory)\n",
    "\n",
    "for file in files:\n",
    "    print(file)"
   ]
  },
  {
   "cell_type": "code",
   "execution_count": null,
   "metadata": {},
   "outputs": [],
   "source": [
    "#Q - 6. Use multiprocessing to create three separate processes. Make each one wait a random number of seconds between one and five, print the current time, and then exit.\n",
    "#Answer:\n",
    "\n",
    "import multiprocessing\n",
    "import time\n",
    "import random\n",
    "from datetime import datetime\n",
    "\n",
    "def worker():\n",
    "    # Generate a random sleep duration between 1 and 5 seconds\n",
    "    sleep_duration = random.randint(1, 5)\n",
    "\n",
    "    # Wait for the specified duration\n",
    "    time.sleep(sleep_duration)\n",
    "\n",
    "    # Get the current time\n",
    "    current_time = datetime.now().strftime(\"%Y-%m-%d %H:%M:%S\")\n",
    "\n",
    "    # Print the current time\n",
    "    print(f\"Process ID: {multiprocessing.current_process().pid}, Current Time: {current_time}\")\n",
    "\n",
    "if __name__ == '__main__':\n",
    "    # Create three separate processes\n",
    "    processes = []\n",
    "    for _ in range(3):\n",
    "        p = multiprocessing.Process(target=worker)\n",
    "        processes.append(p)\n",
    "        p.start()\n",
    "\n",
    "    # Wait for all processes to finish\n",
    "    for p in processes:\n",
    "        p.join()"
   ]
  },
  {
   "cell_type": "code",
   "execution_count": 7,
   "metadata": {},
   "outputs": [
    {
     "name": "stdout",
     "output_type": "stream",
     "text": [
      "My date object is 1989-02-21\n"
     ]
    }
   ],
   "source": [
    "#Q - 7. Create a date object of your day of birth.\n",
    "#Answer:\n",
    "from datetime import date\n",
    "\n",
    "#create date object\n",
    "my_birthdate = date(1989, 2, 21)\n",
    "\n",
    "#print date object\n",
    "print(\"My date object is\",my_birthdate )\n"
   ]
  },
  {
   "cell_type": "code",
   "execution_count": 9,
   "metadata": {},
   "outputs": [
    {
     "name": "stdout",
     "output_type": "stream",
     "text": [
      "My birthdate was on a Tuesday\n"
     ]
    }
   ],
   "source": [
    "#Q - 8. What day of the week was your day of birth?\n",
    "#Answer:\n",
    "from datetime import date\n",
    "\n",
    "# Create a date object for the birthdate\n",
    "birthdate = date(1989, 2, 21)\n",
    "\n",
    "# Get the day of the week as an integer (Monday = 0, Tuesday = 1, ..., Sunday = 6)\n",
    "day_of_week = birthdate.weekday()\n",
    "\n",
    "# Define a list of weekday names\n",
    "weekday_names = ['Monday', 'Tuesday', 'Wednesday', 'Thursday', 'Friday', 'Saturday', 'Sunday']\n",
    "\n",
    "# Get the weekday name for the birthdate\n",
    "birthdate_weekday = weekday_names[day_of_week]\n",
    "\n",
    "# Print the day of the week for the birthdate\n",
    "print(\"My birthdate was on a\", birthdate_weekday)\n"
   ]
  },
  {
   "cell_type": "code",
   "execution_count": 10,
   "metadata": {},
   "outputs": [
    {
     "name": "stdout",
     "output_type": "stream",
     "text": [
      "The date 10,000 days from 1989-02-21 is 2016-07-09\n"
     ]
    }
   ],
   "source": [
    "#Q - 9. When will you be (or when were you) 10,000 days old?\n",
    "#Answer:\n",
    "from datetime import date, timedelta\n",
    "\n",
    "# Define the starting date\n",
    "start_date = date(1989, 2, 21)\n",
    "\n",
    "# Calculate the target date by adding 10,000 days\n",
    "target_date = start_date + timedelta(days=10000)\n",
    "\n",
    "# Print the target date\n",
    "print(\"The date 10,000 days from\", start_date, \"is\", target_date)"
   ]
  },
  {
   "cell_type": "code",
   "execution_count": null,
   "metadata": {},
   "outputs": [],
   "source": []
  }
 ],
 "metadata": {
  "kernelspec": {
   "display_name": "Python 3.9.6 64-bit",
   "language": "python",
   "name": "python3"
  },
  "language_info": {
   "codemirror_mode": {
    "name": "ipython",
    "version": 3
   },
   "file_extension": ".py",
   "mimetype": "text/x-python",
   "name": "python",
   "nbconvert_exporter": "python",
   "pygments_lexer": "ipython3",
   "version": "3.9.6"
  },
  "orig_nbformat": 4,
  "vscode": {
   "interpreter": {
    "hash": "31f2aee4e71d21fbe5cf8b01ff0e069b9275f58929596ceb00d14d90e3e16cd6"
   }
  }
 },
 "nbformat": 4,
 "nbformat_minor": 2
}
